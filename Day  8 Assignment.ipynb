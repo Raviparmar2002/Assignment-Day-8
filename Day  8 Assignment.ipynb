{
 "cells": [
  {
   "cell_type": "markdown",
   "metadata": {},
   "source": [
    "# Assignment Day 8"
   ]
  },
  {
   "cell_type": "markdown",
   "metadata": {},
   "source": [
    "Question - 1:\n",
    "    Write a decorator function for your taking input for you any kind of function you want to build,\n",
    "For example - You make a fibonacci series function,in which your input range is been defined by\n",
    "the decorator program input."
   ]
  },
  {
   "cell_type": "code",
   "execution_count": 2,
   "metadata": {},
   "outputs": [
    {
     "name": "stdout",
     "output_type": "stream",
     "text": [
      "Enter the number  5\n",
      "Enter the charactor $\n",
      "$ \n",
      "$ $ \n",
      "$ $ $ \n",
      "$ $ $ $ \n",
      "$ $ $ $ $ \n"
     ]
    }
   ],
   "source": [
    "def input_for_pattern(wrap_func):\n",
    "    def wraping_func():\n",
    "        a=int(input(\"Enter the number  \"))\n",
    "        b = input(\"Enter the charactor \")\n",
    "        wrap_func(a,b)\n",
    "    return wraping_func()\n",
    "\n",
    "@input_for_pattern\n",
    "def pattern(a,b):\n",
    "    for i in range(0, a):\n",
    "        for j in range(0, i + 1):\n",
    "            print(f\"{b}\", end=' ')\n",
    "        print(\"\\r\")"
   ]
  },
  {
   "cell_type": "markdown",
   "metadata": {},
   "source": [
    "Question - 2:\n",
    "    For this challenge you need to develop a Python program to open a file in read only mode and try\n",
    "writing something to it and handle the subsequent errors using Exception Handling."
   ]
  },
  {
   "cell_type": "code",
   "execution_count": 1,
   "metadata": {},
   "outputs": [
    {
     "name": "stdout",
     "output_type": "stream",
     "text": [
      "Please open as writing mode to write a file\n"
     ]
    }
   ],
   "source": [
    "try:\n",
    "    f = open(\"laptop.txt\",\"r\")\n",
    "    if f.mode == \"r\":\n",
    "        print(f.read())\n",
    "    f.write(\"Hello this file can't be written\")\n",
    "except:\n",
    "    print(\"Please open as writing mode to write a file\")"
   ]
  }
 ],
 "metadata": {
  "kernelspec": {
   "display_name": "Python 3",
   "language": "python",
   "name": "python3"
  },
  "language_info": {
   "codemirror_mode": {
    "name": "ipython",
    "version": 3
   },
   "file_extension": ".py",
   "mimetype": "text/x-python",
   "name": "python",
   "nbconvert_exporter": "python",
   "pygments_lexer": "ipython3",
   "version": "3.6.11"
  }
 },
 "nbformat": 4,
 "nbformat_minor": 4
}
